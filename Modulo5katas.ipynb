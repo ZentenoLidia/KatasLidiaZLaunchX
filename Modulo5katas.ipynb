{
 "cells": [
  {
   "cell_type": "markdown",
   "metadata": {},
   "source": [
    "## Ejercicio 1\n",
    "Utilizar operadores aritméticos\n",
    "Exploremos cómo podemos crear un programa que pueda calcular la distancia entre dos planetas.  \n",
    "Comenzaremos usando dos distancias de planetas: Tierra (149.597.870 km) y Júpiter (778.547.200 km)."
   ]
  },
  {
   "cell_type": "code",
   "execution_count": 8,
   "metadata": {},
   "outputs": [
    {
     "name": "stdout",
     "output_type": "stream",
     "text": [
      "Distancia entre la Tierra y Júpiter: 628949330 km\n",
      "Distancia entre la Tierra y Júpiter: 390577534 millas\n"
     ]
    }
   ],
   "source": [
    "# Crear variables para almacenar las dos distancias\n",
    "# ¡Asegúrate de quitar las comas!\n",
    "from math import ceil, floor\n",
    "\n",
    "distancia_tierra = 149597870\n",
    "distancia_jupiter = 778547200\n",
    "res = distancia_jupiter - distancia_tierra\n",
    "res_millas = ceil(res * 0.621)\n",
    "\n",
    "print('Distancia entre la Tierra y Júpiter: '+ str(res) + ' km')\n",
    "print('Distancia entre la Tierra y Júpiter: '+ str(res_millas) + ' millas')"
   ]
  },
  {
   "cell_type": "markdown",
   "metadata": {},
   "source": [
    "## Ejercicio 2: convierte cadenas en números y usa valores absolutos. \n",
    "Crear una aplicación para trabajar con números y entrada de usuario"
   ]
  },
  {
   "cell_type": "code",
   "execution_count": 11,
   "metadata": {},
   "outputs": [
    {
     "name": "stdout",
     "output_type": "stream",
     "text": [
      "Distancia entre Mercurio y Nepturno: 2755501200 millas\n"
     ]
    }
   ],
   "source": [
    "# Almacenar las entradas del usuario\n",
    "\n",
    "nombre_p1 = input(\"¿Cómo se llama el primer planeta?\")\n",
    "planeta1 = input(\"Ingresa la distancia del sol al primer planeta\")\n",
    "\n",
    "nombre_p2 = input(\"¿Cómo se llama el segundo planeta?\")\n",
    "planeta2 = input(\"Ingresa la distancia del sol al segundo planeta\")\n",
    "\n",
    "planeta1 = int(planeta1)\n",
    "planeta2 = int(planeta2)\n",
    "\n",
    "#operación\n",
    "resultado = planeta2 - planeta1 \n",
    "resultado = abs(resultado)\n",
    "res_mill = ceil(resultado * 0.621)\n",
    "\n",
    "print('Distancia entre ' +str(nombre_p1)+ ' y '+str(nombre_p2)+': '+ str(res_mill) + ' millas')"
   ]
  }
 ],
 "metadata": {
  "interpreter": {
   "hash": "f320ce0533a4f44fdcaa7ddae74264dc216dba8a8c9c1f6e4a7296edc97ed840"
  },
  "kernelspec": {
   "display_name": "Python 3.10.2 64-bit (windows store)",
   "language": "python",
   "name": "python3"
  },
  "language_info": {
   "codemirror_mode": {
    "name": "ipython",
    "version": 3
   },
   "file_extension": ".py",
   "mimetype": "text/x-python",
   "name": "python",
   "nbconvert_exporter": "python",
   "pygments_lexer": "ipython3",
   "version": "3.10.2"
  },
  "orig_nbformat": 4
 },
 "nbformat": 4,
 "nbformat_minor": 2
}

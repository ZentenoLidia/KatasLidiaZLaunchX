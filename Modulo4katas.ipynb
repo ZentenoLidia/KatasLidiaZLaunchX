{
 "cells": [
  {
   "cell_type": "markdown",
   "metadata": {},
   "source": [
    "## Ejercicio 1 \n",
    "Transformar cadenas"
   ]
  },
  {
   "cell_type": "code",
   "execution_count": 27,
   "metadata": {},
   "outputs": [
    {
     "data": {
      "text/plain": [
       "['Interesting facts about the Moon',\n",
       " \"The Moon is Earth's only satellite\",\n",
       " 'There are several interesting facts about the Moon and how it affects life here on Earth',\n",
       " 'On average, the Moon moves 4cm away from the Earth every year',\n",
       " 'This yearly drift is not significant enough to cause immediate effects on']"
      ]
     },
     "execution_count": 27,
     "metadata": {},
     "output_type": "execute_result"
    }
   ],
   "source": [
    "#Como lo resolví\n",
    "text = \"\"\"Interesting facts about the Moon\n",
    "... The Moon is Earth's only satellite\n",
    "... There are several interesting facts about the Moon and how it affects life here on Earth\n",
    "... On average, the Moon moves 4cm away from the Earth every year\n",
    "... This yearly drift is not significant enough to cause immediate effects o\"\"\"\n",
    "text .split('\\n')\n",
    "\n",
    "# Divide el texto solución\n",
    "text2 = \"\"\"Interesting facts about the Moon. The Moon is Earth's only satellite. There are several interesting facts about the Moon and how it affects life here on Earth. On average, the Moon moves 4cm away from the Earth every year. This yearly drift is not significant enough to cause immediate effects on\"\"\"\n",
    "text_parts = text2 .split('. ')\n",
    "text_parts"
   ]
  },
  {
   "cell_type": "code",
   "execution_count": 32,
   "metadata": {},
   "outputs": [
    {
     "name": "stdout",
     "output_type": "stream",
     "text": [
      "On average, the Moon moves 4cm away from the Earth every year\n",
      "On average, the Moon moves 4cm away from the Earth every year\n"
     ]
    }
   ],
   "source": [
    "# Busqueda Define las palabras pista: average, temperature y distance suenan bien\n",
    "pista = [\"average\", \"temperature\", \"distance\"]\n",
    "\n",
    "#Crear un ciclo para imprimir los datos relacionados con las palabras clave \n",
    "for busqueda in text_parts:\n",
    " for palabra in pista: \n",
    "     if palabra in busqueda: \n",
    "        print(busqueda)\n",
    "        break \n",
    "    \n",
    "# Ciclo para cambiar C a Celsius\n",
    "for busqueda in text_parts:\n",
    " for palabra in pista: \n",
    "     if palabra in busqueda: \n",
    "        print(busqueda.replace(' C', 'Celsius'))\n",
    "        break \n"
   ]
  },
  {
   "cell_type": "markdown",
   "metadata": {},
   "source": [
    "## Ejercicio 2\n",
    "Formateando cadenas"
   ]
  },
  {
   "cell_type": "code",
   "execution_count": 39,
   "metadata": {},
   "outputs": [
    {
     "name": "stdout",
     "output_type": "stream",
     "text": [
      "Datos Interesantes Sobre La Tierra Y Su Satélite Natural \n",
      "-------------------------------------------------------------------------------- \n",
      "Nombre del planeta: Tierra \n",
      "Gravedad en Luna: 1.6199999999999999 m/s2 \n",
      " \n",
      "\n",
      "\n",
      "Datos de Gravedad sobre: Ganímedes\n",
      "-------------------------------------------------------------------------------\n",
      "Nombre del planeta: Marte \n",
      "Gravedad en Ganímedes: 1.4300000000000002 m/s2\n",
      "\n"
     ]
    }
   ],
   "source": [
    "# Datos con los que vas a trabajar\n",
    "name = \"Luna\"\n",
    "gravity = 0.00162 # in kms\n",
    "planet = \"Tierra\"\n",
    "\n",
    "# Creamos el título\n",
    "titulo = f'Datos interesantes sobre la {planet} y su satélite natural'\n",
    "\n",
    "# Creamos la plantilla multilinea\n",
    "hechos = f\"\"\"{'-'*80} \n",
    "Nombre del planeta: {planet} \n",
    "Gravedad en {name}: {gravity * 1000} m/s2 \n",
    "\"\"\"\n",
    "\n",
    "# Unión de ambas cadenas\n",
    "union = f\"\"\"{titulo.title()} \n",
    "{hechos} \n",
    "\"\"\" \n",
    "print(union)\n",
    "\n",
    "\n",
    "#Para comprobar con otros datos\n",
    "planeta = 'Marte '\n",
    "gravedad  = 0.00143\n",
    "nombre = 'Ganímedes'\n",
    "\n",
    "otra_plantilla = \"\"\"\n",
    "Datos de Gravedad sobre: {nombre}\n",
    "-------------------------------------------------------------------------------\n",
    "Nombre del planeta: {planeta}\n",
    "Gravedad en {nombre}: {gravedad} m/s2\n",
    "\"\"\"\n",
    "print(otra_plantilla.format(nombre=nombre, planeta=planeta, gravedad=gravedad * 1000))"
   ]
  }
 ],
 "metadata": {
  "interpreter": {
   "hash": "f320ce0533a4f44fdcaa7ddae74264dc216dba8a8c9c1f6e4a7296edc97ed840"
  },
  "kernelspec": {
   "display_name": "Python 3.10.2 64-bit (windows store)",
   "language": "python",
   "name": "python3"
  },
  "language_info": {
   "codemirror_mode": {
    "name": "ipython",
    "version": 3
   },
   "file_extension": ".py",
   "mimetype": "text/x-python",
   "name": "python",
   "nbconvert_exporter": "python",
   "pygments_lexer": "ipython3",
   "version": "3.10.2"
  },
  "orig_nbformat": 4
 },
 "nbformat": 4,
 "nbformat_minor": 2
}

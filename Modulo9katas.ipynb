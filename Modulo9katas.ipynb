{
 "cells": [
  {
   "cell_type": "markdown",
   "metadata": {},
   "source": [
    "## Ejercicio 1: Trabajar con argumentos en funciones"
   ]
  },
  {
   "cell_type": "code",
   "execution_count": 8,
   "metadata": {},
   "outputs": [
    {
     "name": "stdout",
     "output_type": "stream",
     "text": [
      "Promedio de los tanques es:  5\n"
     ]
    }
   ],
   "source": [
    "# Función para leer 3 tanques de combustible y muestre el promedio\n",
    "from math import floor\n",
    "def informes(tanque1, tanque2, tanque3):\n",
    "    contador = tanque1+tanque2+tanque3\n",
    "    prom = contador / 3\n",
    "    \n",
    "    print('Promedio de los tanques es: ', str(floor(prom)))\n",
    "\n",
    "\n",
    "\n",
    "# Llamamos a la función que genera el reporte print(funcion(tanque1, tanque2, tanque3))\n",
    "informes(12, 2, 3)"
   ]
  },
  {
   "cell_type": "code",
   "execution_count": 9,
   "metadata": {},
   "outputs": [
    {
     "name": "stdout",
     "output_type": "stream",
     "text": [
      "Promedio de los tanques es:  29\n"
     ]
    }
   ],
   "source": [
    "#se realiza una función para sacar promedio \n",
    "def promedio(cantidades):\n",
    "    sumatoria = sum(cantidades) \n",
    "    cantidad = len(cantidades)\n",
    "    return sumatoria / cantidad\n",
    "\n",
    "def informes_corto(tanque1, tanque2, tanque3):\n",
    "    print('Promedio de los tanques es: ', str(floor(promedio([tanque1, tanque2, tanque3]))))\n",
    "\n",
    "\n",
    "informes_corto(23, 54, 12)\n",
    "\n"
   ]
  },
  {
   "cell_type": "markdown",
   "metadata": {},
   "source": [
    "## Ejercicio 2 : Trabajar con argumentos de palabras clave en funciones"
   ]
  },
  {
   "cell_type": "code",
   "execution_count": 14,
   "metadata": {},
   "outputs": [
    {
     "name": "stdout",
     "output_type": "stream",
     "text": [
      "\n",
      "    Destino de la misión: Luna\n",
      "    Tiempo de viaje: 45 minutos\n",
      "    Cantidad de combustible: 380000 litros\n",
      "    \n",
      "\n",
      "    Destino de la misión: Luna\n",
      "    Tiempo de viaje: 95 minutos\n",
      "    Cantidad de combustible: 380000 litros\n",
      "    \n",
      "\n",
      "    Destino de la misión: Luna\n",
      "    Tiempo de viaje: 95 minutos\n",
      "    Cantidad de combustible: 380000 litros\n",
      "    Tanque interno --> tiene 150000 litros\n",
      "Tanque externo --> tiene 230000 litros\n",
      "\n"
     ]
    }
   ],
   "source": [
    "# Función con un informe preciso de la misión. Considera hora de prelanzamiento, tiempo de vuelo, destino, tanque externo y tanque interno\n",
    "def informe_mision(hora_prelanzamiento, tiempo_vuelo, destino, tanque_externo, tanque_interno):\n",
    "    return f\"\"\"\n",
    "    Destino de la misión: {destino}\n",
    "    Tiempo de viaje: {hora_prelanzamiento + tiempo_vuelo} minutos\n",
    "    Cantidad de combustible: {tanque_externo + tanque_interno} litros\n",
    "    \"\"\"\n",
    "print(informe_mision(10, 35, \"Luna\", 150000, 230000))\n",
    "\n",
    "\n",
    "# Escribe tu nueva función de reporte considerando lo anterior\n",
    "# La función es problemática porque no se puede adaptar para minutos adicionales o tanques adicionales de combustible. \n",
    "# Hazlo más flexible permitiendo cualquier número de pasos basados en el tiempo y cualquier número de tanques. \n",
    "# En lugar de usar *args y **kwargs, aprovecha el hecho de que puedes usar cualquier nombre que desees. \n",
    "# Asegurate que la función sea más legible mediante el uso de nombres de variables que están asociados con las entradas, como *minutes y **fuel_reservoirs:\n",
    "def info_mision(destino, *minutos, **combustible):\n",
    "    return f\"\"\"\n",
    "    Destino de la misión: {destino}\n",
    "    Tiempo de viaje: {sum(minutos)} minutos\n",
    "    Cantidad de combustible: {sum(combustible.values())} litros\n",
    "    \"\"\"\n",
    "print(info_mision(\"Luna\", 10, 35, 50, interno=150000, externo=230000))\n",
    "\n",
    "\n",
    "\n",
    "# Escribe tu nueva función\n",
    "#Debido a que el combustible que queda en los tanques es específico de cada tanque, actualiza la función para usar el nombre de cada tanque en el informe:\n",
    "def info_mision_tanques(destino, *minutos, **combustible):\n",
    "    reporte = f\"\"\"\n",
    "    Destino de la misión: {destino}\n",
    "    Tiempo de viaje: {sum(minutos)} minutos\n",
    "    Cantidad de combustible: {sum(combustible.values())} litros\n",
    "    \"\"\"\n",
    "    for tanque, lt in combustible.items():\n",
    "        reporte += f\"Tanque {tanque} --> tiene {lt} litros\\n\"\n",
    "    return reporte\n",
    "\n",
    "print(info_mision_tanques(\"Luna\", 10, 35, 50, interno=150000, externo=230000))"
   ]
  }
 ],
 "metadata": {
  "interpreter": {
   "hash": "f320ce0533a4f44fdcaa7ddae74264dc216dba8a8c9c1f6e4a7296edc97ed840"
  },
  "kernelspec": {
   "display_name": "Python 3.10.2 64-bit (windows store)",
   "language": "python",
   "name": "python3"
  },
  "language_info": {
   "codemirror_mode": {
    "name": "ipython",
    "version": 3
   },
   "file_extension": ".py",
   "mimetype": "text/x-python",
   "name": "python",
   "nbconvert_exporter": "python",
   "pygments_lexer": "ipython3",
   "version": "3.10.2"
  },
  "orig_nbformat": 4
 },
 "nbformat": 4,
 "nbformat_minor": 2
}
